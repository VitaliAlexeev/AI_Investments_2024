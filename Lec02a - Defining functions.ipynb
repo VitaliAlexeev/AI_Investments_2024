{
 "cells": [
  {
   "cell_type": "markdown",
   "id": "dbbadea2-e940-4e75-8064-777caf58b8ec",
   "metadata": {},
   "source": [
    "# Defining functions in Python\n",
    "\n",
    "In Python, you can define your own functions to group code into reusable blocks. \n",
    "- Functions are useful when you want to perform the same operation multiple times without repeating the code.\n",
    "- By defining a function, you can call it with different inputs (called **arguments**) and get a result based on the logic you wrote in the function.\n",
    "\n",
    "Here’s a simple breakdown of how to define and use functions in Python.\n",
    "\n",
    "## Basic Structure of a Function\n",
    "\n",
    "The basic syntax for defining a function in Python is as follows:\n",
    "```python\n",
    "def function_name(parameters):\n",
    "    \"\"\"\n",
    "    Optional: A docstring explaining what the function does.\n",
    "    \"\"\"\n",
    "    # Your code that does something with the 'parameters'\n",
    "    return result\n",
    "```\n",
    "\n",
    "Let’s break this down:\n",
    "\n",
    "- `def`: This keyword is used to define a function.\n",
    "- `function_name`: This is the name you give to your function. You can call it whatever you like (following variable naming rules).\n",
    "- `parameters`: These are the inputs to the function. You can pass multiple values (or none at all) to the function. The function will use these inputs in its logic.\n",
    "- `return`: This keyword is used to return the result of the function. The function stops running after encountering return, and the result can be assigned to a variable when the function is called.\n",
    "\n",
    "## Example: Defining a Simple Function"
   ]
  },
  {
   "cell_type": "code",
   "execution_count": 1,
   "id": "b8248f26-59c3-4f42-b8b7-149c05aa7023",
   "metadata": {},
   "outputs": [],
   "source": [
    "def add_two_numbers(a, b):\n",
    "    \"\"\"\n",
    "    This function adds two numbers and returns the result.\n",
    "    \"\"\"\n",
    "    result = a + b\n",
    "    return result"
   ]
  },
  {
   "cell_type": "markdown",
   "id": "d73885a1-b0a3-48e2-ad43-f9af3322f8dc",
   "metadata": {},
   "source": [
    "Here’s what happens in this function:\n",
    "\n",
    "- `a` and `b` are the inputs (parameters) to the function.\n",
    "- The function adds them together using `a + b` and saves the outcome to a variable named `result`\n",
    "- The result is returned using the `return` statement.\n",
    "\n",
    "Once you’ve defined a function, you can **call** it by using its name followed by parentheses. Inside the parentheses, you pass the values for the function’s parameters."
   ]
  },
  {
   "cell_type": "code",
   "execution_count": 4,
   "id": "2b60f604-ce17-4798-8c36-5ea4ee106ee0",
   "metadata": {},
   "outputs": [
    {
     "name": "stdout",
     "output_type": "stream",
     "text": [
      "8\n"
     ]
    }
   ],
   "source": [
    "# Calling the function with numbers 3 and 5\n",
    "sum_result = add_two_numbers(3, 5)\n",
    "print(sum_result)"
   ]
  },
  {
   "cell_type": "markdown",
   "id": "8c95f6b8-ba6c-4c63-b137-bb3fb48818e9",
   "metadata": {},
   "source": [
    "## Customizing Functions\n",
    "You can customize functions by:\n",
    "- Adding more parameters.\n",
    "- Writing more complex code inside the function.\n",
    "- Making some parameters optional by assigning default values.\n",
    "\n",
    "Here’s an example of a more complex function with an optional parameter. In this function:\n",
    "- `name` is required (it has no default value), but `greeting` is optional (it has a default value, \"Hello\").\n",
    "- If you don’t provide a greeting, it will default to \"Hello\"."
   ]
  },
  {
   "cell_type": "code",
   "execution_count": 7,
   "id": "625ee241-31bf-475e-a961-fcc3e2bf3a68",
   "metadata": {},
   "outputs": [],
   "source": [
    "def greet(name, greeting=\"Hello\"):\n",
    "    \"\"\"\n",
    "    This function greets the user with a customizable greeting.\n",
    "    If no greeting is provided, it defaults to 'Hello'.\n",
    "    \"\"\"\n",
    "    return f\"{greeting}, {name}!\""
   ]
  },
  {
   "cell_type": "code",
   "execution_count": 9,
   "id": "163a0373-bd02-4a9a-bebc-e907ea389bf5",
   "metadata": {},
   "outputs": [
    {
     "name": "stdout",
     "output_type": "stream",
     "text": [
      "Hello, Alice!\n"
     ]
    }
   ],
   "source": [
    "print(greet(\"Alice\"))"
   ]
  },
  {
   "cell_type": "code",
   "execution_count": 11,
   "id": "5529b67e-d20e-4b01-8516-8507de1a8331",
   "metadata": {},
   "outputs": [
    {
     "name": "stdout",
     "output_type": "stream",
     "text": [
      "Good morning, Bob!\n"
     ]
    }
   ],
   "source": [
    "print(greet(\"Bob\", \"Good morning\"))"
   ]
  },
  {
   "cell_type": "code",
   "execution_count": null,
   "id": "34522752-3edb-4078-ba29-a9eaddbae50e",
   "metadata": {},
   "outputs": [],
   "source": []
  }
 ],
 "metadata": {
  "kernelspec": {
   "display_name": "Python 3 (ipykernel)",
   "language": "python",
   "name": "python3"
  },
  "language_info": {
   "codemirror_mode": {
    "name": "ipython",
    "version": 3
   },
   "file_extension": ".py",
   "mimetype": "text/x-python",
   "name": "python",
   "nbconvert_exporter": "python",
   "pygments_lexer": "ipython3",
   "version": "3.12.4"
  }
 },
 "nbformat": 4,
 "nbformat_minor": 5
}
