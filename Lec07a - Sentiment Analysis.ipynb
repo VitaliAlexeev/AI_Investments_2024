{
 "cells": [
  {
   "cell_type": "code",
   "execution_count": 30,
   "id": "ea51416e-53b6-4a25-be04-e058c7f06aee",
   "metadata": {},
   "outputs": [],
   "source": [
    "#!pip install textblob\n",
    "#!pip install spacy\n",
    "#!python -m spacy download en_core_web_sm"
   ]
  },
  {
   "cell_type": "code",
   "execution_count": 1,
   "id": "3674803c-8839-4227-9215-1482dd0ef6c1",
   "metadata": {},
   "outputs": [],
   "source": [
    "from textblob import TextBlob\n",
    "import spacy\n",
    "from sklearn.feature_extraction.text import CountVectorizer\n",
    "from sklearn.decomposition import LatentDirichletAllocation\n",
    "import nltk\n",
    "from nltk.sentiment.vader import SentimentIntensityAnalyzer\n",
    "import matplotlib.pyplot as plt"
   ]
  },
  {
   "cell_type": "markdown",
   "id": "cc977986-1a68-481d-90ba-3f981163575d",
   "metadata": {},
   "source": [
    "## Sentiment Analysis Using `TextBlob`"
   ]
  },
  {
   "cell_type": "code",
   "execution_count": 4,
   "id": "db5395c5-ed3f-4745-8169-8e19515d558b",
   "metadata": {},
   "outputs": [
    {
     "name": "stdout",
     "output_type": "stream",
     "text": [
      "Polarity: 0.29583333333333334\n",
      "Subjectivity: 0.7458333333333333\n"
     ]
    }
   ],
   "source": [
    "# Sample earnings call snippet\n",
    "transcript = \"\"\"\n",
    "We are pleased to report a strong quarter with significant growth in revenue and profit.\n",
    "However, we faced challenges due to supply chain disruptions, but we have plans in place to mitigate these issues.\n",
    "\"\"\"\n",
    "\n",
    "# Performing sentiment analysis\n",
    "analysis = TextBlob(transcript)\n",
    "sentiment = analysis.sentiment\n",
    "\n",
    "# Displaying sentiment results\n",
    "print(\"Polarity:\", sentiment.polarity)  # Range from -1 (negative) to 1 (positive)\n",
    "print(\"Subjectivity:\", sentiment.subjectivity)  # Range from 0 (objective) to 1 (subjective)"
   ]
  },
  {
   "cell_type": "markdown",
   "id": "669a4662-83e5-420b-86eb-7d3a69c0b314",
   "metadata": {},
   "source": [
    "**Explanation**:\n",
    "- `Polarity` indicates the sentiment (positive or negative) of the text.\n",
    "- `Subjectivity` indicates how subjective or opinionated the text is."
   ]
  },
  {
   "cell_type": "markdown",
   "id": "63cea854-7730-48a2-ae00-e4b9909e0fc5",
   "metadata": {},
   "source": [
    "## Named Entity Recognition (NER) Using `spaCy`"
   ]
  },
  {
   "cell_type": "code",
   "execution_count": 8,
   "id": "f11cf674-0eac-445e-863e-c13bdebe312d",
   "metadata": {},
   "outputs": [
    {
     "name": "stdout",
     "output_type": "stream",
     "text": [
      "European NORP\n",
      "North American NORP\n",
      "John Smith PERSON\n",
      "next quarter DATE\n"
     ]
    }
   ],
   "source": [
    "# Load the spaCy model for English\n",
    "nlp = spacy.load(\"en_core_web_sm\")\n",
    "\n",
    "# Sample earnings call snippet\n",
    "transcript = \"\"\"\n",
    "We have seen positive trends in our European and North American markets.\n",
    "Our CEO John Smith is confident in our future growth, especially with the new product lines launching next quarter.\n",
    "\"\"\"\n",
    "\n",
    "# Process the text\n",
    "doc = nlp(transcript)\n",
    "\n",
    "# Print named entities, their labels, and the text\n",
    "for ent in doc.ents:\n",
    "    print(ent.text, ent.label_)"
   ]
  },
  {
   "cell_type": "markdown",
   "id": "ec4388e2-1623-4f65-96a7-63426223dda9",
   "metadata": {},
   "source": [
    "**Explanation**:\n",
    "\n",
    "This code identifies named entities like companies, locations, and people in the transcript, which can provide insights into the focus of the discussion."
   ]
  },
  {
   "cell_type": "markdown",
   "id": "765659db-a567-4435-8860-47eeb9aa643f",
   "metadata": {},
   "source": [
    "## Topic Detection Using Latent Dirichlet Allocation (LDA) with scikit-learn"
   ]
  },
  {
   "cell_type": "code",
   "execution_count": 12,
   "id": "67585737-71de-4133-a548-5ced99576b46",
   "metadata": {},
   "outputs": [
    {
     "name": "stdout",
     "output_type": "stream",
     "text": [
      "Topic 0:\n",
      "['steady', 'issues', 'chain', 'addressing', 'ensure']\n",
      "Topic 1:\n",
      "['significant', 'expected', 'new', 'line', 'revenue']\n"
     ]
    }
   ],
   "source": [
    "# Sample earnings call snippets\n",
    "documents = [\n",
    "    \"Our growth in the Asian markets has surpassed expectations.\",\n",
    "    \"We are addressing supply chain issues to ensure steady production.\",\n",
    "    \"The new product line is expected to drive significant revenue.\"\n",
    "]\n",
    "\n",
    "# Vectorize the text\n",
    "vectorizer = CountVectorizer(stop_words='english')\n",
    "doc_term_matrix = vectorizer.fit_transform(documents)\n",
    "\n",
    "# Fit the LDA model\n",
    "lda = LatentDirichletAllocation(n_components=2, random_state=42)\n",
    "lda.fit(doc_term_matrix)\n",
    "\n",
    "# Display the topics\n",
    "for i, topic in enumerate(lda.components_):\n",
    "    print(f\"Topic {i}:\")\n",
    "    print([vectorizer.get_feature_names_out()[index] for index in topic.argsort()[-5:]])\n"
   ]
  },
  {
   "cell_type": "markdown",
   "id": "cd7af454-8dc4-4cc7-9e50-21fe8f73ccb4",
   "metadata": {},
   "source": [
    "**Explanation**:\n",
    "\n",
    "This code snippet extracts topics from earnings call text snippets to identify key themes and topics discussed during calls."
   ]
  },
  {
   "cell_type": "markdown",
   "id": "7fd90fce-a123-40fe-b146-97e0f94d7a96",
   "metadata": {},
   "source": [
    "## Sentiment Detection for Deception Analysis"
   ]
  },
  {
   "cell_type": "code",
   "execution_count": 16,
   "id": "9529af60-4282-46e5-af24-27de2df6797a",
   "metadata": {},
   "outputs": [
    {
     "name": "stdout",
     "output_type": "stream",
     "text": [
      "Sentiment Scores: {'neg': 0.143, 'neu': 0.644, 'pos': 0.214, 'compound': 0.0534}\n"
     ]
    },
    {
     "name": "stderr",
     "output_type": "stream",
     "text": [
      "[nltk_data] Downloading package vader_lexicon to\n",
      "[nltk_data]     /home/c47e0470-b83d-48c6-a026-\n",
      "[nltk_data]     413daab4c753/nltk_data...\n",
      "[nltk_data]   Package vader_lexicon is already up-to-date!\n"
     ]
    }
   ],
   "source": [
    "# Download the VADER lexicon\n",
    "nltk.download('vader_lexicon')\n",
    "\n",
    "# Initialize the sentiment analyzer\n",
    "analyzer = SentimentIntensityAnalyzer()\n",
    "\n",
    "# Sample sentence with potential deceptive cues\n",
    "sentence = \"Our growth has been promising, but we are not responsible for the unexpected setbacks.\"\n",
    "\n",
    "# Analyze sentiment\n",
    "scores = analyzer.polarity_scores(sentence)\n",
    "\n",
    "# Display the scores\n",
    "print(\"Sentiment Scores:\", scores)"
   ]
  },
  {
   "cell_type": "markdown",
   "id": "ff19ab50-734d-4f27-872e-eab77e9977df",
   "metadata": {},
   "source": [
    "**Explanation**:\n",
    "\n",
    "The `compound` score from `VADER` helps assess the overall sentiment of a sentence, which can be used to detect positive spin or blame-shifting language."
   ]
  },
  {
   "cell_type": "markdown",
   "id": "26d1cc7c-000d-487d-b6ce-6ef39c1af665",
   "metadata": {},
   "source": [
    "## Using VADER for Sentiment Analysis in Earnings Calls\n",
    "\n",
    "### Overview of Compound Score:\n",
    "The `compound` score from VADER (Valence Aware Dictionary and sEntiment Reasoner) is a useful metric that provides a single measure of the overall sentiment for a piece of text. This score ranges from `-1` (most negative) to `1` (most positive), giving a quick way to assess whether a sentence or document carries a negative, neutral, or positive tone.\n",
    "\n",
    "### How the Compound Score Works:\n",
    "- **Positive Score**: A compound score close to `1` indicates strong positive sentiment.\n",
    "- **Neutral Score**: A compound score near `0` suggests a neutral tone.\n",
    "- **Negative Score**: A compound score close to `-1` reflects strong negative sentiment.\n",
    "\n",
    "### Application in Earnings Calls:\n",
    "Earnings calls often contain subtle language that can influence investor perception. Positive spin or blame-shifting language can be detected by analyzing the sentiment expressed in statements.\n",
    "\n",
    "- **Positive Spin**: Using overly optimistic language to downplay negative outcomes.\n",
    "- **Blame-Shifting**: Deflecting responsibility onto external factors to maintain a positive outlook.\n",
    "\n",
    "### Detailed Examples and Comparison:\n",
    "\n",
    "#### Example 1: Neutral Sentiment"
   ]
  },
  {
   "cell_type": "code",
   "execution_count": 20,
   "id": "ada40b97-db1b-4eb6-afaf-d801cd9e6259",
   "metadata": {},
   "outputs": [
    {
     "name": "stdout",
     "output_type": "stream",
     "text": [
      "Sentence: Our revenue for this quarter was in line with expectations.\n",
      "Sentiment Scores: {'neg': 0.0, 'neu': 1.0, 'pos': 0.0, 'compound': 0.0}\n"
     ]
    }
   ],
   "source": [
    "analyzer = SentimentIntensityAnalyzer()\n",
    "\n",
    "sentence = \"Our revenue for this quarter was in line with expectations.\"\n",
    "scores = analyzer.polarity_scores(sentence)\n",
    "print(\"Sentence:\", sentence)\n",
    "print(\"Sentiment Scores:\", scores)"
   ]
  },
  {
   "cell_type": "markdown",
   "id": "1d2a8574-c599-4b10-b287-406e4dcd9bec",
   "metadata": {},
   "source": [
    "**Output Explanation**:\n",
    "\n",
    "The compound score for this neutral statement is likely close to 0, indicating no strong positive or negative sentiment."
   ]
  },
  {
   "cell_type": "markdown",
   "id": "29e427a0-6fc1-4200-b123-333ea6b7573e",
   "metadata": {},
   "source": [
    "#### Example 2: Positive Spin"
   ]
  },
  {
   "cell_type": "code",
   "execution_count": 24,
   "id": "c9016bce-482f-40ee-b629-3f3c4bcb0044",
   "metadata": {},
   "outputs": [
    {
     "name": "stdout",
     "output_type": "stream",
     "text": [
      "Sentence: Despite the challenges, our growth trajectory remains exceptional, and we are poised for success.\n",
      "Sentiment Scores: {'neg': 0.063, 'neu': 0.512, 'pos': 0.425, 'compound': 0.7951}\n"
     ]
    }
   ],
   "source": [
    "sentence = \"Despite the challenges, our growth trajectory remains exceptional, and we are poised for success.\"\n",
    "scores = analyzer.polarity_scores(sentence)\n",
    "print(\"Sentence:\", sentence)\n",
    "print(\"Sentiment Scores:\", scores)"
   ]
  },
  {
   "cell_type": "markdown",
   "id": "4dd9edba-f3f6-4c66-b160-e5a1b51c0534",
   "metadata": {},
   "source": [
    "**Output Explanation**:\n",
    "\n",
    "The compound score for this sentence is expected to be quite high (e.g., 0.7 to 1.0). The use of words like \"exceptional\" and \"success\" reflects a strong positive spin, even though challenges are mentioned.\n",
    "\n",
    "#### Example 3: Blame-Shifting Language"
   ]
  },
  {
   "cell_type": "code",
   "execution_count": 27,
   "id": "2eb2da77-bb68-498e-bf67-82718a036b13",
   "metadata": {},
   "outputs": [
    {
     "name": "stdout",
     "output_type": "stream",
     "text": [
      "Sentence: Our results were impacted by unforeseen economic factors beyond our control.\n",
      "Sentiment Scores: {'neg': 0.0, 'neu': 1.0, 'pos': 0.0, 'compound': 0.0}\n"
     ]
    }
   ],
   "source": [
    "sentence = \"Our results were impacted by unforeseen economic factors beyond our control.\"\n",
    "scores = analyzer.polarity_scores(sentence)\n",
    "print(\"Sentence:\", sentence)\n",
    "print(\"Sentiment Scores:\", scores)"
   ]
  },
  {
   "cell_type": "markdown",
   "id": "f8b7720c-547b-4844-9e91-155376b50f18",
   "metadata": {},
   "source": [
    "**Output Explanation**:\n",
    "\n",
    "The compound score may be positive or slightly neutral (e.g., 0.0 to 0.5), indicating an attempt to deflect blame. Words like \"unforeseen\" and \"beyond our control\" are typical of blame-shifting, where negative outcomes are attributed to external circumstances.\n",
    "\n",
    "#### Example 4: Strong Negative Sentiment"
   ]
  },
  {
   "cell_type": "code",
   "execution_count": 30,
   "id": "a8cd7250-1228-4753-ace7-d5813bc68a5d",
   "metadata": {},
   "outputs": [
    {
     "name": "stdout",
     "output_type": "stream",
     "text": [
      "Sentence: This quarter was a significant disappointment with major revenue losses.\n",
      "Sentiment Scores: {'neg': 0.435, 'neu': 0.435, 'pos': 0.13, 'compound': -0.6369}\n"
     ]
    }
   ],
   "source": [
    "sentence = \"This quarter was a significant disappointment with major revenue losses.\"\n",
    "scores = analyzer.polarity_scores(sentence)\n",
    "print(\"Sentence:\", sentence)\n",
    "print(\"Sentiment Scores:\", scores)"
   ]
  },
  {
   "cell_type": "markdown",
   "id": "7fc35e1b-6c61-4b72-b0d7-93f4a2238a03",
   "metadata": {},
   "source": [
    "**Output Explanation**:\n",
    "\n",
    "The compound score for this sentence would be negative (e.g., -0.6 to -1.0), reflecting the strong negative sentiment conveyed by words like \"disappointment\" and \"losses.\"\n",
    "\n",
    "### Comparative Analysis:\n",
    "When analyzing multiple earnings call statements, it's helpful to compare compound scores to identify patterns:\n",
    "\n",
    "- Consistent Positive Spin: High compound scores across different sections indicate an effort to maintain an optimistic tone.\n",
    "- Shifts in Sentiment: A sudden drop in compound scores may suggest a change in tone, revealing potential issues or negative news.\n",
    "\n",
    "### Visualizing Sentiment:\n",
    "Using `matplotlib` or `seaborn`, you can create visualizations to illustrate the sentiment scores over an entire earnings call transcript:"
   ]
  },
  {
   "cell_type": "code",
   "execution_count": 33,
   "id": "ac8ad7c7-7bc0-4dc8-bc1f-a2dc4a409b3d",
   "metadata": {},
   "outputs": [
    {
     "data": {
      "image/png": "[encoded data removed]",
      "text/plain": [
       "<Figure size 640x480 with 1 Axes>"
      ]
     },
     "metadata": {},
     "output_type": "display_data"
    }
   ],
   "source": [
    "analyzer = SentimentIntensityAnalyzer()\n",
    "sentences = [\n",
    "    \"Our revenue for this quarter was in line with expectations.\",\n",
    "    \"Despite the challenges, our growth trajectory remains exceptional, and we are poised for success.\",\n",
    "    \"Our results were impacted by unforeseen economic factors beyond our control.\",\n",
    "    \"This quarter was a significant disappointment with major revenue losses.\"\n",
    "]\n",
    "\n",
    "compound_scores = [analyzer.polarity_scores(sentence)['compound'] for sentence in sentences]\n",
    "\n",
    "plt.plot(compound_scores, marker='o', linestyle='-', color='blue')\n",
    "plt.title('Compound Sentiment Scores for Earnings Call Statements')\n",
    "plt.xlabel('Statement Number')\n",
    "plt.ylabel('Compound Score')\n",
    "plt.ylim(-1, 1)\n",
    "plt.axhline(0, color='gray', linestyle='--')\n",
    "plt.show()"
   ]
  },
  {
   "cell_type": "markdown",
   "id": "81b9e16e-5b8f-4ab6-85fa-34b17497e29c",
   "metadata": {},
   "source": [
    "**Explanation of the Plot**:\n",
    "\n",
    "A plot showing the compound scores for different statements helps visualize where positive spin or blame-shifting might occur. High spikes could indicate overly positive language, while dips show more neutral or negative sentiment.\n",
    "\n",
    "#### Takeaway:\n",
    "- Detecting Positive Spin: High compound scores, even when challenges are mentioned, indicate attempts to maintain a positive outlook.\n",
    "- Identifying Blame-Shifting: Statements with neutral or slightly positive scores that mention external factors suggest deflection of responsibility."
   ]
  },
  {
   "cell_type": "code",
   "execution_count": null,
   "id": "632eee8e-bb30-4ff9-b2e5-e3251d665acb",
   "metadata": {},
   "outputs": [],
   "source": []
  }
 ],
 "metadata": {
  "kernelspec": {
   "display_name": "anaconda-ai-2024.04-py310",
   "language": "python",
   "name": "conda-env-anaconda-ai-2024.04-py310-py"
  },
  "language_info": {
   "codemirror_mode": {
    "name": "ipython",
    "version": 3
   },
   "file_extension": ".py",
   "mimetype": "text/x-python",
   "name": "python",
   "nbconvert_exporter": "python",
   "pygments_lexer": "ipython3",
   "version": "3.10.13"
  }
 },
 "nbformat": 4,
 "nbformat_minor": 5
}
